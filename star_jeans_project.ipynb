{
 "cells": [
  {
   "cell_type": "markdown",
   "id": "20d42686",
   "metadata": {},
   "source": [
    "## Data Collect - ID - Name - Price"
   ]
  },
  {
   "cell_type": "markdown",
   "id": "1c4e870c",
   "metadata": {
    "heading_collapsed": true
   },
   "source": [
    "### One Product"
   ]
  },
  {
   "cell_type": "code",
   "execution_count": null,
   "id": "16f3f473",
   "metadata": {
    "hidden": true
   },
   "outputs": [],
   "source": [
    "#import pandas as pd\n",
    "#import numpy as np\n",
    "#from bs4 import BeautifulSoup\n",
    "#import requests\n",
    "\n",
    "#url = 'https://www2.hm.com/en_us/men/products/jeans.html'\n",
    "#headers = {'User-Agent': 'Mozilla/5.0 (Macintosh; Intel Mac OS X 10_11_5)AppleWebKit/537.36 (KHTML, like Gecko) Chrome/50.0.2661.102 Safari/537.36'}\n",
    "#requests = requests.get(url, headers=headers)\n",
    "#page = requests.text\n",
    "#soup = BeautifulSoup(page, 'html.parser')\n",
    "\n",
    "\n",
    "#ID - Title - Price\n",
    "\n",
    "#product_id = soup.find('article',class_='hm-product-item')['data-articlecode']\n",
    "#\n",
    "#product_name = soup.find('div', class_=\"image-container\").find('a')['title']\n",
    "#\n",
    "#product_price = soup.find('strong',class_=\"item-price\").find('span').get_text()\n",
    "#product_price = pd.to_numeric(list(filter(None,product_price.split('$'))))\n",
    "#\n",
    "#"
   ]
  },
  {
   "cell_type": "markdown",
   "id": "3539ccf1",
   "metadata": {
    "heading_collapsed": true
   },
   "source": [
    "### Multiple Products"
   ]
  },
  {
   "cell_type": "markdown",
   "id": "0a48bb31",
   "metadata": {
    "hidden": true
   },
   "source": [
    "#### Imports"
   ]
  },
  {
   "cell_type": "code",
   "execution_count": 940,
   "id": "657c0db4",
   "metadata": {
    "ExecuteTime": {
     "end_time": "2022-03-30T17:10:06.952126Z",
     "start_time": "2022-03-30T17:10:06.941154Z"
    },
    "hidden": true
   },
   "outputs": [],
   "source": [
    "import pandas as pd\n",
    "import numpy as np\n",
    "from bs4 import BeautifulSoup\n",
    "import requests"
   ]
  },
  {
   "cell_type": "markdown",
   "id": "8a376c20",
   "metadata": {
    "hidden": true
   },
   "source": [
    "#### Collect"
   ]
  },
  {
   "cell_type": "code",
   "execution_count": 938,
   "id": "085535d6",
   "metadata": {
    "ExecuteTime": {
     "end_time": "2022-03-30T17:09:52.806024Z",
     "start_time": "2022-03-30T17:09:51.667203Z"
    },
    "hidden": true
   },
   "outputs": [],
   "source": [
    "#Coletar número total de products por página (vitrine) e número total de products para calcular número de páginas e \n",
    "#quantos espaços na vitrine (total_show)\n",
    "\n",
    "\n",
    "url = 'https://www2.hm.com/en_us/men/products/jeans.html'\n",
    "headers = {'User-Agent': 'Mozilla/5.0 (Macintosh; Intel Mac OS X 10_11_5)AppleWebKit/537.36 (KHTML, like Gecko) Chrome/50.0.2661.102 Safari/537.36'}\n",
    "requests = requests.get(url, headers=headers)\n",
    "page = requests.text\n",
    "\n",
    "soup = BeautifulSoup(page, 'html.parser')\n",
    "total_products = soup.find('h2',class_=\"load-more-heading\")['data-total']\n",
    "items_pages = soup.find('h2',class_=\"load-more-heading\")['data-items-shown']\n",
    "pagination = round(int(total_products)/int(items_pages))\n",
    "total_show = int(items_pages)*pagination"
   ]
  },
  {
   "cell_type": "code",
   "execution_count": 941,
   "id": "6ef13725",
   "metadata": {
    "ExecuteTime": {
     "end_time": "2022-03-30T17:10:27.379937Z",
     "start_time": "2022-03-30T17:10:11.992427Z"
    },
    "code_folding": [],
    "hidden": true
   },
   "outputs": [
    {
     "name": "stdout",
     "output_type": "stream",
     "text": [
      "https://www2.hm.com/en_us/men/products/jeans.html?offset=0&page-size=36\n",
      "https://www2.hm.com/en_us/men/products/jeans.html?offset=0&page-size=72\n",
      "https://www2.hm.com/en_us/men/products/jeans.html?offset=0&page-size=108\n"
     ]
    }
   ],
   "source": [
    "#Criando listas vazias e iterador\n",
    "i = int(items_pages)\n",
    "aux1 = []\n",
    "aux2 = []\n",
    "aux3 = []\n",
    "\n",
    "#iteração que permite coletar todos os produtos de todas as páginas\n",
    "while i <= int(total_show):\n",
    "    \n",
    "    if i <= (i*pagination):\n",
    "        \n",
    "        url02 = 'https://www2.hm.com/en_us/men/products/jeans.html?offset=0&page-size='+str(i)\n",
    "        \n",
    "        #API Request\n",
    "        requests_2 = requests.get(url02, headers=headers)\n",
    "        page_2 = requests_2.text\n",
    "        soup_2 = BeautifulSoup(page_2, 'html.parser')\n",
    "        \n",
    "        number_products = soup_2.find_all('li',class_='product-item')\n",
    "    \n",
    "        products_id = [soup_2.find_all('article',class_='hm-product-item')[j]['data-articlecode'] for j in range(len(number_products))]\n",
    "        aux1 = aux1 + products_id \n",
    "\n",
    "        name_products = [soup_2.find_all('div', class_=\"image-container\")[k].find('a')['title'] for k in range(len(number_products))]\n",
    "        aux2 = aux2 + name_products\n",
    "        \n",
    "        price_products = [list(filter(None,soup_2.find_all('strong',class_=\"item-price\")[u].find('span').get_text().split('$')))for u in range(len(number_products))]\n",
    "        aux3 = aux3 + price_products\n",
    "            \n",
    "            #price_products = pd.DataFrame(price_products)\n",
    "        \n",
    "        i = int(items_pages) + i\n",
    "        print(url02)\n",
    "\n",
    "    else:\n",
    "        print('fim')\n",
    "\n"
   ]
  },
  {
   "cell_type": "code",
   "execution_count": 1119,
   "id": "e0198992",
   "metadata": {
    "ExecuteTime": {
     "end_time": "2022-03-31T19:09:46.521823Z",
     "start_time": "2022-03-31T19:09:46.445160Z"
    },
    "hidden": true
   },
   "outputs": [],
   "source": [
    "product_id=pd.DataFrame(aux1)\n",
    "product_name=pd.DataFrame(aux2)\n",
    "product_price=pd.DataFrame(aux3)"
   ]
  },
  {
   "cell_type": "code",
   "execution_count": 1127,
   "id": "1b53f635",
   "metadata": {
    "ExecuteTime": {
     "end_time": "2022-03-31T19:11:39.948725Z",
     "start_time": "2022-03-31T19:11:39.924349Z"
    },
    "hidden": true
   },
   "outputs": [],
   "source": [
    "df1 = pd.concat([product_id,product_name],axis=1)\n",
    "data = pd.concat([df1,product_price],axis=1)\n",
    "data.columns = ['product_id','product_name','product_price']"
   ]
  },
  {
   "cell_type": "code",
   "execution_count": 1128,
   "id": "7ac04216",
   "metadata": {
    "ExecuteTime": {
     "end_time": "2022-03-31T19:11:42.675137Z",
     "start_time": "2022-03-31T19:11:42.654194Z"
    },
    "hidden": true
   },
   "outputs": [
    {
     "data": {
      "text/html": [
       "<div>\n",
       "<style scoped>\n",
       "    .dataframe tbody tr th:only-of-type {\n",
       "        vertical-align: middle;\n",
       "    }\n",
       "\n",
       "    .dataframe tbody tr th {\n",
       "        vertical-align: top;\n",
       "    }\n",
       "\n",
       "    .dataframe thead th {\n",
       "        text-align: right;\n",
       "    }\n",
       "</style>\n",
       "<table border=\"1\" class=\"dataframe\">\n",
       "  <thead>\n",
       "    <tr style=\"text-align: right;\">\n",
       "      <th></th>\n",
       "      <th>product_id</th>\n",
       "      <th>product_name</th>\n",
       "      <th>product_price</th>\n",
       "    </tr>\n",
       "  </thead>\n",
       "  <tbody>\n",
       "    <tr>\n",
       "      <th>0</th>\n",
       "      <td>0690449043</td>\n",
       "      <td>Skinny Jeans</td>\n",
       "      <td>39.99</td>\n",
       "    </tr>\n",
       "    <tr>\n",
       "      <th>1</th>\n",
       "      <td>1004199003</td>\n",
       "      <td>Skinny Cropped Jeans</td>\n",
       "      <td>29.99</td>\n",
       "    </tr>\n",
       "    <tr>\n",
       "      <th>2</th>\n",
       "      <td>0690449051</td>\n",
       "      <td>Skinny Jeans</td>\n",
       "      <td>39.99</td>\n",
       "    </tr>\n",
       "    <tr>\n",
       "      <th>3</th>\n",
       "      <td>0690449056</td>\n",
       "      <td>Skinny Jeans</td>\n",
       "      <td>39.99</td>\n",
       "    </tr>\n",
       "    <tr>\n",
       "      <th>4</th>\n",
       "      <td>1004199005</td>\n",
       "      <td>Skinny Cropped Jeans</td>\n",
       "      <td>29.99</td>\n",
       "    </tr>\n",
       "  </tbody>\n",
       "</table>\n",
       "</div>"
      ],
      "text/plain": [
       "   product_id          product_name product_price\n",
       "0  0690449043          Skinny Jeans         39.99\n",
       "1  1004199003  Skinny Cropped Jeans         29.99\n",
       "2  0690449051          Skinny Jeans         39.99\n",
       "3  0690449056          Skinny Jeans         39.99\n",
       "4  1004199005  Skinny Cropped Jeans         29.99"
      ]
     },
     "execution_count": 1128,
     "metadata": {},
     "output_type": "execute_result"
    }
   ],
   "source": [
    "#data.reset_index(drop=True,inplace=True)\n",
    "data.head()"
   ]
  },
  {
   "cell_type": "code",
   "execution_count": 1129,
   "id": "e076aec0",
   "metadata": {
    "ExecuteTime": {
     "end_time": "2022-03-31T19:12:03.130353Z",
     "start_time": "2022-03-31T19:12:03.108412Z"
    },
    "hidden": true
   },
   "outputs": [
    {
     "data": {
      "text/plain": [
       "206"
      ]
     },
     "execution_count": 1129,
     "metadata": {},
     "output_type": "execute_result"
    }
   ],
   "source": [
    "len(data)"
   ]
  },
  {
   "cell_type": "code",
   "execution_count": 1130,
   "id": "9af4569d",
   "metadata": {
    "ExecuteTime": {
     "end_time": "2022-03-31T19:12:05.449321Z",
     "start_time": "2022-03-31T19:12:05.397195Z"
    },
    "hidden": true
   },
   "outputs": [],
   "source": [
    "data=data.drop_duplicates(subset='product_id', keep=\"first\")"
   ]
  },
  {
   "cell_type": "code",
   "execution_count": 1131,
   "id": "0d668b6e",
   "metadata": {
    "ExecuteTime": {
     "end_time": "2022-03-31T19:12:07.751876Z",
     "start_time": "2022-03-31T19:12:07.740905Z"
    },
    "hidden": true
   },
   "outputs": [
    {
     "data": {
      "text/plain": [
       "98"
      ]
     },
     "execution_count": 1131,
     "metadata": {},
     "output_type": "execute_result"
    }
   ],
   "source": [
    "len(data)"
   ]
  },
  {
   "cell_type": "code",
   "execution_count": 1132,
   "id": "ef90e9ad",
   "metadata": {
    "ExecuteTime": {
     "end_time": "2022-03-31T19:12:12.462772Z",
     "start_time": "2022-03-31T19:12:12.429098Z"
    },
    "hidden": true,
    "scrolled": true
   },
   "outputs": [],
   "source": [
    "#Separate product_id in style and color id:\n",
    "data['style_id'] = data['product_id'].apply( lambda x: x[:-3])\n",
    "data['color_id'] = data['product_id'].apply( lambda x: x[-3:])"
   ]
  },
  {
   "cell_type": "code",
   "execution_count": 1133,
   "id": "b8771613",
   "metadata": {
    "ExecuteTime": {
     "end_time": "2022-03-31T19:12:17.339066Z",
     "start_time": "2022-03-31T19:12:17.322139Z"
    },
    "hidden": true
   },
   "outputs": [],
   "source": [
    "#drop the style id duplicates to get the product color only one time to either product_id\n",
    "\n",
    "data=data.drop_duplicates(subset='style_id', keep=\"first\")"
   ]
  },
  {
   "cell_type": "code",
   "execution_count": 1134,
   "id": "c9f71bce",
   "metadata": {
    "ExecuteTime": {
     "end_time": "2022-03-31T19:12:19.365029Z",
     "start_time": "2022-03-31T19:12:19.346079Z"
    },
    "hidden": true
   },
   "outputs": [
    {
     "data": {
      "text/plain": [
       "28"
      ]
     },
     "execution_count": 1134,
     "metadata": {},
     "output_type": "execute_result"
    }
   ],
   "source": [
    "len(data)"
   ]
  },
  {
   "cell_type": "code",
   "execution_count": 1159,
   "id": "39f0de1c",
   "metadata": {
    "ExecuteTime": {
     "end_time": "2022-03-31T19:33:49.735243Z",
     "start_time": "2022-03-31T19:33:49.715296Z"
    },
    "hidden": true
   },
   "outputs": [],
   "source": [
    "data = data.loc[data['product_id']!='0811993034']"
   ]
  },
  {
   "cell_type": "code",
   "execution_count": 1160,
   "id": "295f6d61",
   "metadata": {
    "ExecuteTime": {
     "end_time": "2022-03-31T19:33:51.964433Z",
     "start_time": "2022-03-31T19:33:51.948476Z"
    },
    "hidden": true
   },
   "outputs": [
    {
     "data": {
      "text/plain": [
       "27"
      ]
     },
     "execution_count": 1160,
     "metadata": {},
     "output_type": "execute_result"
    }
   ],
   "source": [
    "data  = data.reset_index(drop=True)\n",
    "len(data)"
   ]
  },
  {
   "cell_type": "code",
   "execution_count": 1161,
   "id": "794ad52d",
   "metadata": {
    "ExecuteTime": {
     "end_time": "2022-03-31T19:33:56.777414Z",
     "start_time": "2022-03-31T19:33:56.756471Z"
    },
    "hidden": true
   },
   "outputs": [
    {
     "data": {
      "text/plain": [
       "'1024711001'"
      ]
     },
     "execution_count": 1161,
     "metadata": {},
     "output_type": "execute_result"
    }
   ],
   "source": [
    "data.loc[16,'product_id']"
   ]
  },
  {
   "cell_type": "code",
   "execution_count": 1267,
   "id": "54bfd1de",
   "metadata": {
    "ExecuteTime": {
     "end_time": "2022-03-31T20:57:30.021091Z",
     "start_time": "2022-03-31T20:57:30.006131Z"
    },
    "hidden": true
   },
   "outputs": [
    {
     "data": {
      "text/html": [
       "<div>\n",
       "<style scoped>\n",
       "    .dataframe tbody tr th:only-of-type {\n",
       "        vertical-align: middle;\n",
       "    }\n",
       "\n",
       "    .dataframe tbody tr th {\n",
       "        vertical-align: top;\n",
       "    }\n",
       "\n",
       "    .dataframe thead th {\n",
       "        text-align: right;\n",
       "    }\n",
       "</style>\n",
       "<table border=\"1\" class=\"dataframe\">\n",
       "  <thead>\n",
       "    <tr style=\"text-align: right;\">\n",
       "      <th></th>\n",
       "      <th>product_id</th>\n",
       "      <th>product_name</th>\n",
       "      <th>product_price</th>\n",
       "      <th>style_id</th>\n",
       "      <th>color_id</th>\n",
       "    </tr>\n",
       "  </thead>\n",
       "  <tbody>\n",
       "    <tr>\n",
       "      <th>0</th>\n",
       "      <td>0690449043</td>\n",
       "      <td>Skinny Jeans</td>\n",
       "      <td>39.99</td>\n",
       "      <td>0690449</td>\n",
       "      <td>043</td>\n",
       "    </tr>\n",
       "    <tr>\n",
       "      <th>1</th>\n",
       "      <td>1004199003</td>\n",
       "      <td>Skinny Cropped Jeans</td>\n",
       "      <td>29.99</td>\n",
       "      <td>1004199</td>\n",
       "      <td>003</td>\n",
       "    </tr>\n",
       "    <tr>\n",
       "      <th>2</th>\n",
       "      <td>1024256001</td>\n",
       "      <td>Slim Jeans</td>\n",
       "      <td>19.99</td>\n",
       "      <td>1024256</td>\n",
       "      <td>001</td>\n",
       "    </tr>\n",
       "    <tr>\n",
       "      <th>3</th>\n",
       "      <td>0985159001</td>\n",
       "      <td>Skinny Jeans</td>\n",
       "      <td>19.99</td>\n",
       "      <td>0985159</td>\n",
       "      <td>001</td>\n",
       "    </tr>\n",
       "    <tr>\n",
       "      <th>4</th>\n",
       "      <td>0938875012</td>\n",
       "      <td>Slim Tapered Jeans</td>\n",
       "      <td>39.99</td>\n",
       "      <td>0938875</td>\n",
       "      <td>012</td>\n",
       "    </tr>\n",
       "  </tbody>\n",
       "</table>\n",
       "</div>"
      ],
      "text/plain": [
       "   product_id          product_name product_price style_id color_id\n",
       "0  0690449043          Skinny Jeans         39.99  0690449      043\n",
       "1  1004199003  Skinny Cropped Jeans         29.99  1004199      003\n",
       "2  1024256001            Slim Jeans         19.99  1024256      001\n",
       "3  0985159001          Skinny Jeans         19.99  0985159      001\n",
       "4  0938875012    Slim Tapered Jeans         39.99  0938875      012"
      ]
     },
     "execution_count": 1267,
     "metadata": {},
     "output_type": "execute_result"
    }
   ],
   "source": [
    "data.head()"
   ]
  },
  {
   "cell_type": "markdown",
   "id": "40689618",
   "metadata": {
    "ExecuteTime": {
     "end_time": "2022-03-24T19:32:56.293874Z",
     "start_time": "2022-03-24T19:32:56.275924Z"
    }
   },
   "source": [
    "## Data Collect - Composition - Collor"
   ]
  },
  {
   "cell_type": "markdown",
   "id": "7f9f7128",
   "metadata": {
    "heading_collapsed": true
   },
   "source": [
    "### One Product"
   ]
  },
  {
   "cell_type": "code",
   "execution_count": 722,
   "id": "65e88e29",
   "metadata": {
    "ExecuteTime": {
     "end_time": "2022-03-29T15:44:22.463004Z",
     "start_time": "2022-03-29T15:44:22.409477Z"
    },
    "hidden": true
   },
   "outputs": [],
   "source": [
    "import pandas as pd\n",
    "import requests\n",
    "from bs4 import BeautifulSoup\n",
    "import re"
   ]
  },
  {
   "cell_type": "code",
   "execution_count": 1174,
   "id": "8d4eeedc",
   "metadata": {
    "ExecuteTime": {
     "end_time": "2022-03-31T19:47:52.475741Z",
     "start_time": "2022-03-31T19:47:51.561233Z"
    },
    "hidden": true
   },
   "outputs": [],
   "source": [
    "#API Requests\n",
    "\n",
    "url = 'https://www2.hm.com/en_us/productpage.1024256001.html'\n",
    "headers = {'User-Agent': 'Mozilla/5.0 (Macintosh; Intel Mac OS X 10_11_5)AppleWebKit/537.36 (KHTML, like Gecko) Chrome/50.0.2661.102 Safari/537.36'}\n",
    "requests_3 = requests.get(url,headers = headers)\n",
    "page_3 = requests_3.text\n",
    "soup_3 = BeautifulSoup(page_3,'html.parser')\n"
   ]
  },
  {
   "cell_type": "code",
   "execution_count": 1102,
   "id": "1cd48524",
   "metadata": {
    "ExecuteTime": {
     "end_time": "2022-03-30T20:05:27.094738Z",
     "start_time": "2022-03-30T20:05:27.069804Z"
    },
    "hidden": true
   },
   "outputs": [],
   "source": [
    "#Get Collor\n",
    "\n",
    "list_item = soup_3.find('div',class_='mini-slider').find_all('li',class_=\"list-item\")\n",
    "color_item = [list_item[i].find('a')['data-color'] for i in range(len(list_item))]\n",
    "code_item = [list_item[i].find('a')['data-articlecode'] for i in range(len(list_item))]\n",
    "color_item = pd.DataFrame(color_item)\n",
    "code_item = pd.DataFrame(code_item)\n",
    "item_id = pd.concat([color_item,code_item],axis=1)"
   ]
  },
  {
   "cell_type": "code",
   "execution_count": 1104,
   "id": "0a4517fa",
   "metadata": {
    "ExecuteTime": {
     "end_time": "2022-03-30T20:05:38.970025Z",
     "start_time": "2022-03-30T20:05:38.957089Z"
    },
    "hidden": true
   },
   "outputs": [
    {
     "data": {
      "text/plain": [
       "8"
      ]
     },
     "execution_count": 1104,
     "metadata": {},
     "output_type": "execute_result"
    }
   ],
   "source": [
    " len(list_item)"
   ]
  },
  {
   "cell_type": "code",
   "execution_count": 1110,
   "id": "7ba6359d",
   "metadata": {
    "ExecuteTime": {
     "end_time": "2022-03-31T19:04:50.886017Z",
     "start_time": "2022-03-31T19:04:50.869062Z"
    },
    "hidden": true
   },
   "outputs": [
    {
     "data": {
      "text/html": [
       "<div>\n",
       "<style scoped>\n",
       "    .dataframe tbody tr th:only-of-type {\n",
       "        vertical-align: middle;\n",
       "    }\n",
       "\n",
       "    .dataframe tbody tr th {\n",
       "        vertical-align: top;\n",
       "    }\n",
       "\n",
       "    .dataframe thead th {\n",
       "        text-align: right;\n",
       "    }\n",
       "</style>\n",
       "<table border=\"1\" class=\"dataframe\">\n",
       "  <thead>\n",
       "    <tr style=\"text-align: right;\">\n",
       "      <th></th>\n",
       "      <th>0</th>\n",
       "      <th>0</th>\n",
       "    </tr>\n",
       "  </thead>\n",
       "  <tbody>\n",
       "    <tr>\n",
       "      <th>0</th>\n",
       "      <td>Light denim blue</td>\n",
       "      <td>1004199001</td>\n",
       "    </tr>\n",
       "    <tr>\n",
       "      <th>1</th>\n",
       "      <td>Black</td>\n",
       "      <td>1004199002</td>\n",
       "    </tr>\n",
       "    <tr>\n",
       "      <th>2</th>\n",
       "      <td>Denim blue</td>\n",
       "      <td>1004199003</td>\n",
       "    </tr>\n",
       "    <tr>\n",
       "      <th>3</th>\n",
       "      <td>White</td>\n",
       "      <td>1004199004</td>\n",
       "    </tr>\n",
       "    <tr>\n",
       "      <th>4</th>\n",
       "      <td>Light gray</td>\n",
       "      <td>1004199005</td>\n",
       "    </tr>\n",
       "  </tbody>\n",
       "</table>\n",
       "</div>"
      ],
      "text/plain": [
       "                  0           0\n",
       "0  Light denim blue  1004199001\n",
       "1             Black  1004199002\n",
       "2        Denim blue  1004199003\n",
       "3             White  1004199004\n",
       "4        Light gray  1004199005"
      ]
     },
     "execution_count": 1110,
     "metadata": {},
     "output_type": "execute_result"
    }
   ],
   "source": [
    "item_id"
   ]
  },
  {
   "cell_type": "code",
   "execution_count": 922,
   "id": "a7212941",
   "metadata": {
    "ExecuteTime": {
     "end_time": "2022-03-30T16:53:48.283287Z",
     "start_time": "2022-03-30T16:53:48.264737Z"
    },
    "hidden": true
   },
   "outputs": [],
   "source": [
    "#soup_3.find('div',class_='mini-slider')"
   ]
  },
  {
   "cell_type": "code",
   "execution_count": 1188,
   "id": "d08f59ee",
   "metadata": {
    "ExecuteTime": {
     "end_time": "2022-03-31T19:55:42.776685Z",
     "start_time": "2022-03-31T19:55:42.737784Z"
    },
    "hidden": true
   },
   "outputs": [],
   "source": [
    "#Get Composition\n",
    "\n",
    "composition_list = soup_3.find_all('div',class_=\"details parbase\")[0].find_all('script')[1].text\n",
    "composition_list = composition_list.replace('\\r', '').replace('\\t', '').replace('\\n', '').replace('\\\\\"', '').replace(\"\\\\'\",\"\")\n",
    "p = re.search('\\[.*(s*{.*}s*).*\\]', composition_list).group(0)\n",
    "\n",
    "\n",
    "# needs to be \" \" to the json.loads work\n",
    "p = p.replace(\"'\", '\"')\n",
    "p = p.replace('title', '\"title\"')\n",
    "p = p.replace('values', '\"values\"')\n",
    "json_data = json.loads(p)\n",
    "composition = pd.DataFrame.from_dict(json_data)\n",
    "df_composition = (composition).T\n",
    "df_composition.columns = df_composition.iloc[:1].iloc[0,:].tolist()\n",
    "df_composition = df_composition.reset_index(drop=True)\n",
    "df_composition=df_composition.drop(0)\n",
    "#pd.to_numeric(df_composition.iloc[0,4])\n",
    "#df_composition.iloc[0,4] = pd.to_numeric(df_composition.iloc[0,4][0])\n",
    "for i in range(len(df_composition.columns)-1):\n",
    "    df_composition.iloc[0,i] = df_composition.iloc[0,i][0]"
   ]
  },
  {
   "cell_type": "code",
   "execution_count": 1184,
   "id": "3ba119b3",
   "metadata": {
    "ExecuteTime": {
     "end_time": "2022-03-31T19:55:17.777241Z",
     "start_time": "2022-03-31T19:55:17.763278Z"
    },
    "hidden": true
   },
   "outputs": [
    {
     "data": {
      "text/html": [
       "<div>\n",
       "<style scoped>\n",
       "    .dataframe tbody tr th:only-of-type {\n",
       "        vertical-align: middle;\n",
       "    }\n",
       "\n",
       "    .dataframe tbody tr th {\n",
       "        vertical-align: top;\n",
       "    }\n",
       "\n",
       "    .dataframe thead th {\n",
       "        text-align: right;\n",
       "    }\n",
       "</style>\n",
       "<table border=\"1\" class=\"dataframe\">\n",
       "  <thead>\n",
       "    <tr style=\"text-align: right;\">\n",
       "      <th></th>\n",
       "      <th>Size</th>\n",
       "      <th>Fit</th>\n",
       "      <th>Composition</th>\n",
       "      <th>Art. No.</th>\n",
       "    </tr>\n",
       "  </thead>\n",
       "  <tbody>\n",
       "    <tr>\n",
       "      <th>1</th>\n",
       "      <td>The model is 187cm/62 and wears a size 32/32</td>\n",
       "      <td>Skinny fit</td>\n",
       "      <td>Cotton 98%, Spandex 2%</td>\n",
       "      <td>[0690449043]</td>\n",
       "    </tr>\n",
       "  </tbody>\n",
       "</table>\n",
       "</div>"
      ],
      "text/plain": [
       "                                           Size         Fit  \\\n",
       "1  The model is 187cm/62 and wears a size 32/32  Skinny fit   \n",
       "\n",
       "              Composition      Art. No.  \n",
       "1  Cotton 98%, Spandex 2%  [0690449043]  "
      ]
     },
     "execution_count": 1184,
     "metadata": {},
     "output_type": "execute_result"
    }
   ],
   "source": [
    "df_composition"
   ]
  },
  {
   "cell_type": "markdown",
   "id": "6d4a9ed7",
   "metadata": {
    "ExecuteTime": {
     "end_time": "2022-03-30T16:10:19.214311Z",
     "start_time": "2022-03-30T16:10:19.203342Z"
    },
    "heading_collapsed": true
   },
   "source": [
    "### Multiple Products"
   ]
  },
  {
   "cell_type": "code",
   "execution_count": 926,
   "id": "d0d71e84",
   "metadata": {
    "ExecuteTime": {
     "end_time": "2022-03-30T16:54:39.973023Z",
     "start_time": "2022-03-30T16:54:39.968035Z"
    },
    "hidden": true
   },
   "outputs": [],
   "source": [
    "import pandas as pd\n",
    "import requests\n",
    "from bs4 import BeautifulSoup\n",
    "import re"
   ]
  },
  {
   "cell_type": "code",
   "execution_count": 927,
   "id": "635e86ba",
   "metadata": {
    "ExecuteTime": {
     "end_time": "2022-03-30T16:54:42.465098Z",
     "start_time": "2022-03-30T16:54:42.456122Z"
    },
    "hidden": true
   },
   "outputs": [],
   "source": [
    "#API Requests\n",
    "\n",
    "headers = {'User-Agent': 'Mozilla/5.0 (Macintosh; Intel Mac OS X 10_11_5)AppleWebKit/537.36 (KHTML, like Gecko) Chrome/50.0.2661.102 Safari/537.36'}\n"
   ]
  },
  {
   "cell_type": "code",
   "execution_count": 1162,
   "id": "b398d5cf",
   "metadata": {
    "ExecuteTime": {
     "end_time": "2022-03-31T19:34:24.186851Z",
     "start_time": "2022-03-31T19:34:04.068443Z"
    },
    "hidden": true
   },
   "outputs": [
    {
     "name": "stdout",
     "output_type": "stream",
     "text": [
      "0690449043\n",
      "1004199003\n",
      "1024256001\n",
      "0985159001\n",
      "0938875012\n",
      "1008549006\n",
      "0927964002\n",
      "0979945001\n",
      "1027852007\n",
      "1013317008\n",
      "1008110001\n",
      "0875105024\n",
      "0751994024\n",
      "0974597002\n",
      "1018704001\n",
      "0730863033\n",
      "1024711001\n",
      "0427159006\n",
      "0985197003\n",
      "1049466001\n",
      "1004476006\n",
      "0974202003\n",
      "1028865001\n",
      "1025726002\n",
      "0993887001\n",
      "1048642001\n",
      "0986779002\n"
     ]
    }
   ],
   "source": [
    "#Get Collor\n",
    "\n",
    "aux = pd.DataFrame()\n",
    "\n",
    "for i in range(len(data)):\n",
    "    url = 'https://www2.hm.com/en_us/productpage.'+data.loc[i,'product_id']+'.html'\n",
    "    requests_3 = requests.get(url,headers = headers)\n",
    "    page_3 = requests_3.text\n",
    "    soup_3 = BeautifulSoup(page_3,'html.parser')\n",
    "    list_item = soup_3.find('div',class_='mini-slider').find_all('li',class_=\"list-item\")\n",
    "    color_item = [list_item[i].find('a')['data-color'] for i in range(len(list_item))]\n",
    "    code_item = [list_item[i].find('a')['data-articlecode'] for i in range(len(list_item))]\n",
    "    color_name = pd.DataFrame(color_item)\n",
    "    code_item = pd.DataFrame(code_item)\n",
    "    item_id = pd.concat([color_name,code_item],axis=1)\n",
    "    aux = pd.concat([item_id,aux],axis=0)\n",
    "    print(data.loc[i,'product_id'])"
   ]
  },
  {
   "cell_type": "code",
   "execution_count": 1167,
   "id": "5f2e2692",
   "metadata": {
    "ExecuteTime": {
     "end_time": "2022-03-31T19:39:10.819771Z",
     "start_time": "2022-03-31T19:39:10.811792Z"
    },
    "hidden": true
   },
   "outputs": [],
   "source": [
    "aux.columns = ['name_color','product_id']"
   ]
  },
  {
   "cell_type": "code",
   "execution_count": 1170,
   "id": "a5008f22",
   "metadata": {
    "ExecuteTime": {
     "end_time": "2022-03-31T19:41:29.513849Z",
     "start_time": "2022-03-31T19:41:29.498861Z"
    },
    "hidden": true
   },
   "outputs": [],
   "source": [
    "df_color = aux.copy()"
   ]
  },
  {
   "cell_type": "code",
   "execution_count": 1171,
   "id": "3df1a54f",
   "metadata": {
    "ExecuteTime": {
     "end_time": "2022-03-31T19:41:31.609513Z",
     "start_time": "2022-03-31T19:41:31.591562Z"
    },
    "hidden": true
   },
   "outputs": [],
   "source": [
    "df_color['style_id'] = df_color['product_id'].apply( lambda x: x[:-3])\n",
    "df_color['color_id'] = df_color['product_id'].apply( lambda x: x[-3:])"
   ]
  },
  {
   "cell_type": "code",
   "execution_count": 1172,
   "id": "6c13b00d",
   "metadata": {
    "ExecuteTime": {
     "end_time": "2022-03-31T19:41:41.011823Z",
     "start_time": "2022-03-31T19:41:40.995865Z"
    },
    "hidden": true,
    "scrolled": true
   },
   "outputs": [
    {
     "data": {
      "text/html": [
       "<div>\n",
       "<style scoped>\n",
       "    .dataframe tbody tr th:only-of-type {\n",
       "        vertical-align: middle;\n",
       "    }\n",
       "\n",
       "    .dataframe tbody tr th {\n",
       "        vertical-align: top;\n",
       "    }\n",
       "\n",
       "    .dataframe thead th {\n",
       "        text-align: right;\n",
       "    }\n",
       "</style>\n",
       "<table border=\"1\" class=\"dataframe\">\n",
       "  <thead>\n",
       "    <tr style=\"text-align: right;\">\n",
       "      <th></th>\n",
       "      <th>name_color</th>\n",
       "      <th>product_id</th>\n",
       "      <th>style_id</th>\n",
       "      <th>color_id</th>\n",
       "    </tr>\n",
       "  </thead>\n",
       "  <tbody>\n",
       "    <tr>\n",
       "      <th>0</th>\n",
       "      <td>Denim blue</td>\n",
       "      <td>0986779002</td>\n",
       "      <td>0986779</td>\n",
       "      <td>002</td>\n",
       "    </tr>\n",
       "    <tr>\n",
       "      <th>1</th>\n",
       "      <td>Black</td>\n",
       "      <td>0986779003</td>\n",
       "      <td>0986779</td>\n",
       "      <td>003</td>\n",
       "    </tr>\n",
       "    <tr>\n",
       "      <th>2</th>\n",
       "      <td>Dark denim blue</td>\n",
       "      <td>0986779004</td>\n",
       "      <td>0986779</td>\n",
       "      <td>004</td>\n",
       "    </tr>\n",
       "    <tr>\n",
       "      <th>3</th>\n",
       "      <td>Denim blue</td>\n",
       "      <td>0986779005</td>\n",
       "      <td>0986779</td>\n",
       "      <td>005</td>\n",
       "    </tr>\n",
       "    <tr>\n",
       "      <th>0</th>\n",
       "      <td>Denim blue</td>\n",
       "      <td>1048642001</td>\n",
       "      <td>1048642</td>\n",
       "      <td>001</td>\n",
       "    </tr>\n",
       "  </tbody>\n",
       "</table>\n",
       "</div>"
      ],
      "text/plain": [
       "        name_color  product_id style_id color_id\n",
       "0       Denim blue  0986779002  0986779      002\n",
       "1            Black  0986779003  0986779      003\n",
       "2  Dark denim blue  0986779004  0986779      004\n",
       "3       Denim blue  0986779005  0986779      005\n",
       "0       Denim blue  1048642001  1048642      001"
      ]
     },
     "execution_count": 1172,
     "metadata": {},
     "output_type": "execute_result"
    }
   ],
   "source": [
    "df_color.head()"
   ]
  },
  {
   "cell_type": "code",
   "execution_count": 1260,
   "id": "11c6ae91",
   "metadata": {
    "ExecuteTime": {
     "end_time": "2022-03-31T20:52:30.476464Z",
     "start_time": "2022-03-31T20:52:14.745197Z"
    },
    "hidden": true
   },
   "outputs": [],
   "source": [
    "#Get Composition\n",
    "\n",
    "aux_2 = pd.DataFrame()\n",
    "\n",
    "for i in range(len(data)):\n",
    "    url = 'https://www2.hm.com/en_us/productpage.'+data.loc[i,'product_id']+'.html'\n",
    "    requests_3 = requests.get(url,headers = headers)\n",
    "    page_3 = requests_3.text\n",
    "    soup_3 = BeautifulSoup(page_3,'html.parser')\n",
    "    composition_list = soup_3.find_all('div',class_=\"details parbase\")[0].find_all('script')[1].text\n",
    "    composition_list = composition_list.replace('\\r', '').replace('\\t', '').replace('\\n', '').replace('\\\\\"', '').replace(\"\\\\'\",\"\")\n",
    "    p = re.search('\\[.*(s*{.*}s*).*\\]', composition_list).group(0)\n",
    "    # needs to be \" \" to the json.loads work\n",
    "    p = p.replace(\"'\", '\"')\n",
    "    p = p.replace('title', '\"title\"')\n",
    "    p = p.replace('values', '\"values\"')\n",
    "    json_data = json.loads(p)\n",
    "    composition = pd.DataFrame.from_dict(json_data)\n",
    "    df_composition = (composition).T\n",
    "    df_composition.columns = df_composition.iloc[:1].iloc[0,:].tolist()\n",
    "    df_composition = df_composition.reset_index(drop=True)\n",
    "    df_composition=df_composition.drop(0)\n",
    "    for i in range(len(df_composition.columns)):\n",
    "        df_composition.iloc[0,i] = df_composition.iloc[0,i][0]\n",
    "    \n",
    "    aux_2 = pd.concat([aux_2,df_composition],axis=0)\n",
    "    "
   ]
  },
  {
   "cell_type": "code",
   "execution_count": 1261,
   "id": "71b2e4ce",
   "metadata": {
    "ExecuteTime": {
     "end_time": "2022-03-31T20:52:33.630223Z",
     "start_time": "2022-03-31T20:52:33.614266Z"
    },
    "hidden": true
   },
   "outputs": [],
   "source": [
    "aux_2 = aux_2.reset_index(drop=True)"
   ]
  },
  {
   "cell_type": "code",
   "execution_count": 1262,
   "id": "1b5f7727",
   "metadata": {
    "ExecuteTime": {
     "end_time": "2022-03-31T20:52:35.430452Z",
     "start_time": "2022-03-31T20:52:35.413497Z"
    },
    "hidden": true
   },
   "outputs": [
    {
     "data": {
      "text/html": [
       "<div>\n",
       "<style scoped>\n",
       "    .dataframe tbody tr th:only-of-type {\n",
       "        vertical-align: middle;\n",
       "    }\n",
       "\n",
       "    .dataframe tbody tr th {\n",
       "        vertical-align: top;\n",
       "    }\n",
       "\n",
       "    .dataframe thead th {\n",
       "        text-align: right;\n",
       "    }\n",
       "</style>\n",
       "<table border=\"1\" class=\"dataframe\">\n",
       "  <thead>\n",
       "    <tr style=\"text-align: right;\">\n",
       "      <th></th>\n",
       "      <th>Size</th>\n",
       "      <th>Fit</th>\n",
       "      <th>Composition</th>\n",
       "      <th>Art. No.</th>\n",
       "      <th>More sustainable materials</th>\n",
       "    </tr>\n",
       "  </thead>\n",
       "  <tbody>\n",
       "    <tr>\n",
       "      <th>0</th>\n",
       "      <td>The model is 187cm/62 and wears a size 32/32</td>\n",
       "      <td>Skinny fit</td>\n",
       "      <td>Cotton 98%, Spandex 2%</td>\n",
       "      <td>0690449043</td>\n",
       "      <td>NaN</td>\n",
       "    </tr>\n",
       "    <tr>\n",
       "      <th>1</th>\n",
       "      <td>The model is 185cm/61 and wears a size 31</td>\n",
       "      <td>Skinny fit</td>\n",
       "      <td>Pocket lining: Polyester 65%, Cotton 35%</td>\n",
       "      <td>1004199003</td>\n",
       "      <td>Shell: Recycled cotton 20%</td>\n",
       "    </tr>\n",
       "    <tr>\n",
       "      <th>2</th>\n",
       "      <td>The model is 185cm/61 and wears a size 31/32</td>\n",
       "      <td>Slim fit</td>\n",
       "      <td>Pocket lining: Polyester 65%, Cotton 35%</td>\n",
       "      <td>1024256001</td>\n",
       "      <td>Lining: Recycled cotton 20%</td>\n",
       "    </tr>\n",
       "    <tr>\n",
       "      <th>3</th>\n",
       "      <td>The model is 187cm/62 and wears a size 32/32</td>\n",
       "      <td>Skinny fit</td>\n",
       "      <td>Shell: Cotton 99%, Spandex 1%</td>\n",
       "      <td>0985159001</td>\n",
       "      <td>Shell: Recycled cotton 20%</td>\n",
       "    </tr>\n",
       "    <tr>\n",
       "      <th>4</th>\n",
       "      <td>The model is 185cm/61 and wears a size 31/32</td>\n",
       "      <td>Slim fit</td>\n",
       "      <td>Cotton 99%, Spandex 1%</td>\n",
       "      <td>0938875012</td>\n",
       "      <td>Shell: Recycled cotton 20%</td>\n",
       "    </tr>\n",
       "  </tbody>\n",
       "</table>\n",
       "</div>"
      ],
      "text/plain": [
       "                                           Size         Fit  \\\n",
       "0  The model is 187cm/62 and wears a size 32/32  Skinny fit   \n",
       "1     The model is 185cm/61 and wears a size 31  Skinny fit   \n",
       "2  The model is 185cm/61 and wears a size 31/32    Slim fit   \n",
       "3  The model is 187cm/62 and wears a size 32/32  Skinny fit   \n",
       "4  The model is 185cm/61 and wears a size 31/32    Slim fit   \n",
       "\n",
       "                                Composition    Art. No.  \\\n",
       "0                    Cotton 98%, Spandex 2%  0690449043   \n",
       "1  Pocket lining: Polyester 65%, Cotton 35%  1004199003   \n",
       "2  Pocket lining: Polyester 65%, Cotton 35%  1024256001   \n",
       "3             Shell: Cotton 99%, Spandex 1%  0985159001   \n",
       "4                    Cotton 99%, Spandex 1%  0938875012   \n",
       "\n",
       "    More sustainable materials  \n",
       "0                          NaN  \n",
       "1   Shell: Recycled cotton 20%  \n",
       "2  Lining: Recycled cotton 20%  \n",
       "3   Shell: Recycled cotton 20%  \n",
       "4   Shell: Recycled cotton 20%  "
      ]
     },
     "execution_count": 1262,
     "metadata": {},
     "output_type": "execute_result"
    }
   ],
   "source": [
    "aux_2.head()"
   ]
  },
  {
   "cell_type": "code",
   "execution_count": 1265,
   "id": "c20b7df2",
   "metadata": {
    "ExecuteTime": {
     "end_time": "2022-03-31T20:53:30.984798Z",
     "start_time": "2022-03-31T20:53:30.963854Z"
    },
    "hidden": true
   },
   "outputs": [],
   "source": [
    "aux_2['style_id'] = aux_2['Art. No.'].apply(lambda x: x[:-3])\n",
    "aux_2['color_id'] = aux_2['Art. No.'].apply(lambda x: x[-3:])\n"
   ]
  },
  {
   "cell_type": "code",
   "execution_count": 1266,
   "id": "4adf41c4",
   "metadata": {
    "ExecuteTime": {
     "end_time": "2022-03-31T20:53:38.959459Z",
     "start_time": "2022-03-31T20:53:38.934499Z"
    },
    "hidden": true,
    "scrolled": true
   },
   "outputs": [
    {
     "data": {
      "text/html": [
       "<div>\n",
       "<style scoped>\n",
       "    .dataframe tbody tr th:only-of-type {\n",
       "        vertical-align: middle;\n",
       "    }\n",
       "\n",
       "    .dataframe tbody tr th {\n",
       "        vertical-align: top;\n",
       "    }\n",
       "\n",
       "    .dataframe thead th {\n",
       "        text-align: right;\n",
       "    }\n",
       "</style>\n",
       "<table border=\"1\" class=\"dataframe\">\n",
       "  <thead>\n",
       "    <tr style=\"text-align: right;\">\n",
       "      <th></th>\n",
       "      <th>Size</th>\n",
       "      <th>Fit</th>\n",
       "      <th>Composition</th>\n",
       "      <th>Art. No.</th>\n",
       "      <th>More sustainable materials</th>\n",
       "      <th>style_id</th>\n",
       "      <th>color_id</th>\n",
       "    </tr>\n",
       "  </thead>\n",
       "  <tbody>\n",
       "    <tr>\n",
       "      <th>0</th>\n",
       "      <td>The model is 187cm/62 and wears a size 32/32</td>\n",
       "      <td>Skinny fit</td>\n",
       "      <td>Cotton 98%, Spandex 2%</td>\n",
       "      <td>0690449043</td>\n",
       "      <td>NaN</td>\n",
       "      <td>0690449</td>\n",
       "      <td>043</td>\n",
       "    </tr>\n",
       "    <tr>\n",
       "      <th>1</th>\n",
       "      <td>The model is 185cm/61 and wears a size 31</td>\n",
       "      <td>Skinny fit</td>\n",
       "      <td>Pocket lining: Polyester 65%, Cotton 35%</td>\n",
       "      <td>1004199003</td>\n",
       "      <td>Shell: Recycled cotton 20%</td>\n",
       "      <td>1004199</td>\n",
       "      <td>003</td>\n",
       "    </tr>\n",
       "    <tr>\n",
       "      <th>2</th>\n",
       "      <td>The model is 185cm/61 and wears a size 31/32</td>\n",
       "      <td>Slim fit</td>\n",
       "      <td>Pocket lining: Polyester 65%, Cotton 35%</td>\n",
       "      <td>1024256001</td>\n",
       "      <td>Lining: Recycled cotton 20%</td>\n",
       "      <td>1024256</td>\n",
       "      <td>001</td>\n",
       "    </tr>\n",
       "    <tr>\n",
       "      <th>3</th>\n",
       "      <td>The model is 187cm/62 and wears a size 32/32</td>\n",
       "      <td>Skinny fit</td>\n",
       "      <td>Shell: Cotton 99%, Spandex 1%</td>\n",
       "      <td>0985159001</td>\n",
       "      <td>Shell: Recycled cotton 20%</td>\n",
       "      <td>0985159</td>\n",
       "      <td>001</td>\n",
       "    </tr>\n",
       "    <tr>\n",
       "      <th>4</th>\n",
       "      <td>The model is 185cm/61 and wears a size 31/32</td>\n",
       "      <td>Slim fit</td>\n",
       "      <td>Cotton 99%, Spandex 1%</td>\n",
       "      <td>0938875012</td>\n",
       "      <td>Shell: Recycled cotton 20%</td>\n",
       "      <td>0938875</td>\n",
       "      <td>012</td>\n",
       "    </tr>\n",
       "  </tbody>\n",
       "</table>\n",
       "</div>"
      ],
      "text/plain": [
       "                                           Size         Fit  \\\n",
       "0  The model is 187cm/62 and wears a size 32/32  Skinny fit   \n",
       "1     The model is 185cm/61 and wears a size 31  Skinny fit   \n",
       "2  The model is 185cm/61 and wears a size 31/32    Slim fit   \n",
       "3  The model is 187cm/62 and wears a size 32/32  Skinny fit   \n",
       "4  The model is 185cm/61 and wears a size 31/32    Slim fit   \n",
       "\n",
       "                                Composition    Art. No.  \\\n",
       "0                    Cotton 98%, Spandex 2%  0690449043   \n",
       "1  Pocket lining: Polyester 65%, Cotton 35%  1004199003   \n",
       "2  Pocket lining: Polyester 65%, Cotton 35%  1024256001   \n",
       "3             Shell: Cotton 99%, Spandex 1%  0985159001   \n",
       "4                    Cotton 99%, Spandex 1%  0938875012   \n",
       "\n",
       "    More sustainable materials style_id color_id  \n",
       "0                          NaN  0690449      043  \n",
       "1   Shell: Recycled cotton 20%  1004199      003  \n",
       "2  Lining: Recycled cotton 20%  1024256      001  \n",
       "3   Shell: Recycled cotton 20%  0985159      001  \n",
       "4   Shell: Recycled cotton 20%  0938875      012  "
      ]
     },
     "execution_count": 1266,
     "metadata": {},
     "output_type": "execute_result"
    }
   ],
   "source": [
    "aux_2.head()"
   ]
  },
  {
   "cell_type": "code",
   "execution_count": 1269,
   "id": "5553af86",
   "metadata": {
    "ExecuteTime": {
     "end_time": "2022-03-31T21:02:56.244046Z",
     "start_time": "2022-03-31T21:02:56.237095Z"
    },
    "hidden": true
   },
   "outputs": [],
   "source": [
    "df_details = aux_2.copy()"
   ]
  },
  {
   "cell_type": "code",
   "execution_count": 1284,
   "id": "b42dda4c",
   "metadata": {
    "ExecuteTime": {
     "end_time": "2022-03-31T21:17:38.274300Z",
     "start_time": "2022-03-31T21:17:38.264328Z"
    },
    "hidden": true
   },
   "outputs": [],
   "source": [
    "data = data.drop(columns=['product_id','color_id'])"
   ]
  },
  {
   "cell_type": "code",
   "execution_count": 1285,
   "id": "2d5e6ff1",
   "metadata": {
    "ExecuteTime": {
     "end_time": "2022-03-31T21:17:50.297253Z",
     "start_time": "2022-03-31T21:17:50.267191Z"
    },
    "hidden": true,
    "scrolled": false
   },
   "outputs": [
    {
     "data": {
      "text/html": [
       "<div>\n",
       "<style scoped>\n",
       "    .dataframe tbody tr th:only-of-type {\n",
       "        vertical-align: middle;\n",
       "    }\n",
       "\n",
       "    .dataframe tbody tr th {\n",
       "        vertical-align: top;\n",
       "    }\n",
       "\n",
       "    .dataframe thead th {\n",
       "        text-align: right;\n",
       "    }\n",
       "</style>\n",
       "<table border=\"1\" class=\"dataframe\">\n",
       "  <thead>\n",
       "    <tr style=\"text-align: right;\">\n",
       "      <th></th>\n",
       "      <th>product_name</th>\n",
       "      <th>product_price</th>\n",
       "      <th>style_id</th>\n",
       "      <th>name_color</th>\n",
       "      <th>product_id</th>\n",
       "      <th>color_id</th>\n",
       "    </tr>\n",
       "  </thead>\n",
       "  <tbody>\n",
       "    <tr>\n",
       "      <th>0</th>\n",
       "      <td>Skinny Jeans</td>\n",
       "      <td>39.99</td>\n",
       "      <td>0690449</td>\n",
       "      <td>Light denim blue/trashed</td>\n",
       "      <td>0690449001</td>\n",
       "      <td>001</td>\n",
       "    </tr>\n",
       "    <tr>\n",
       "      <th>1</th>\n",
       "      <td>Skinny Jeans</td>\n",
       "      <td>39.99</td>\n",
       "      <td>0690449</td>\n",
       "      <td>Denim blue</td>\n",
       "      <td>0690449002</td>\n",
       "      <td>002</td>\n",
       "    </tr>\n",
       "    <tr>\n",
       "      <th>2</th>\n",
       "      <td>Skinny Jeans</td>\n",
       "      <td>39.99</td>\n",
       "      <td>0690449</td>\n",
       "      <td>Black/washed</td>\n",
       "      <td>0690449006</td>\n",
       "      <td>006</td>\n",
       "    </tr>\n",
       "    <tr>\n",
       "      <th>3</th>\n",
       "      <td>Skinny Jeans</td>\n",
       "      <td>39.99</td>\n",
       "      <td>0690449</td>\n",
       "      <td>Light denim blue</td>\n",
       "      <td>0690449007</td>\n",
       "      <td>007</td>\n",
       "    </tr>\n",
       "    <tr>\n",
       "      <th>4</th>\n",
       "      <td>Skinny Jeans</td>\n",
       "      <td>39.99</td>\n",
       "      <td>0690449</td>\n",
       "      <td>Black washed out</td>\n",
       "      <td>0690449009</td>\n",
       "      <td>009</td>\n",
       "    </tr>\n",
       "    <tr>\n",
       "      <th>...</th>\n",
       "      <td>...</td>\n",
       "      <td>...</td>\n",
       "      <td>...</td>\n",
       "      <td>...</td>\n",
       "      <td>...</td>\n",
       "      <td>...</td>\n",
       "    </tr>\n",
       "    <tr>\n",
       "      <th>174</th>\n",
       "      <td>Regular Bootcut Jeans</td>\n",
       "      <td>39.99</td>\n",
       "      <td>1048642</td>\n",
       "      <td>Denim black</td>\n",
       "      <td>1048642002</td>\n",
       "      <td>002</td>\n",
       "    </tr>\n",
       "    <tr>\n",
       "      <th>175</th>\n",
       "      <td>Relaxed Tapered Pull-on Jeans</td>\n",
       "      <td>29.99</td>\n",
       "      <td>0986779</td>\n",
       "      <td>Denim blue</td>\n",
       "      <td>0986779002</td>\n",
       "      <td>002</td>\n",
       "    </tr>\n",
       "    <tr>\n",
       "      <th>176</th>\n",
       "      <td>Relaxed Tapered Pull-on Jeans</td>\n",
       "      <td>29.99</td>\n",
       "      <td>0986779</td>\n",
       "      <td>Black</td>\n",
       "      <td>0986779003</td>\n",
       "      <td>003</td>\n",
       "    </tr>\n",
       "    <tr>\n",
       "      <th>177</th>\n",
       "      <td>Relaxed Tapered Pull-on Jeans</td>\n",
       "      <td>29.99</td>\n",
       "      <td>0986779</td>\n",
       "      <td>Dark denim blue</td>\n",
       "      <td>0986779004</td>\n",
       "      <td>004</td>\n",
       "    </tr>\n",
       "    <tr>\n",
       "      <th>178</th>\n",
       "      <td>Relaxed Tapered Pull-on Jeans</td>\n",
       "      <td>29.99</td>\n",
       "      <td>0986779</td>\n",
       "      <td>Denim blue</td>\n",
       "      <td>0986779005</td>\n",
       "      <td>005</td>\n",
       "    </tr>\n",
       "  </tbody>\n",
       "</table>\n",
       "<p>179 rows × 6 columns</p>\n",
       "</div>"
      ],
      "text/plain": [
       "                      product_name product_price style_id  \\\n",
       "0                     Skinny Jeans         39.99  0690449   \n",
       "1                     Skinny Jeans         39.99  0690449   \n",
       "2                     Skinny Jeans         39.99  0690449   \n",
       "3                     Skinny Jeans         39.99  0690449   \n",
       "4                     Skinny Jeans         39.99  0690449   \n",
       "..                             ...           ...      ...   \n",
       "174          Regular Bootcut Jeans         39.99  1048642   \n",
       "175  Relaxed Tapered Pull-on Jeans         29.99  0986779   \n",
       "176  Relaxed Tapered Pull-on Jeans         29.99  0986779   \n",
       "177  Relaxed Tapered Pull-on Jeans         29.99  0986779   \n",
       "178  Relaxed Tapered Pull-on Jeans         29.99  0986779   \n",
       "\n",
       "                   name_color  product_id color_id  \n",
       "0    Light denim blue/trashed  0690449001      001  \n",
       "1                  Denim blue  0690449002      002  \n",
       "2                Black/washed  0690449006      006  \n",
       "3            Light denim blue  0690449007      007  \n",
       "4            Black washed out  0690449009      009  \n",
       "..                        ...         ...      ...  \n",
       "174               Denim black  1048642002      002  \n",
       "175                Denim blue  0986779002      002  \n",
       "176                     Black  0986779003      003  \n",
       "177           Dark denim blue  0986779004      004  \n",
       "178                Denim blue  0986779005      005  \n",
       "\n",
       "[179 rows x 6 columns]"
      ]
     },
     "execution_count": 1285,
     "metadata": {},
     "output_type": "execute_result"
    }
   ],
   "source": [
    "df1 = data.merge(df_color,how='inner', on='style_id' )\n",
    "df1"
   ]
  },
  {
   "cell_type": "code",
   "execution_count": 1286,
   "id": "ff4786b4",
   "metadata": {
    "ExecuteTime": {
     "end_time": "2022-03-31T21:19:00.844081Z",
     "start_time": "2022-03-31T21:19:00.836101Z"
    },
    "hidden": true
   },
   "outputs": [],
   "source": [
    "df_details = df_details.drop(columns=['color_id','Art. No.'])"
   ]
  },
  {
   "cell_type": "code",
   "execution_count": 1291,
   "id": "fe344620",
   "metadata": {
    "ExecuteTime": {
     "end_time": "2022-03-31T21:23:44.124412Z",
     "start_time": "2022-03-31T21:23:44.084025Z"
    },
    "hidden": true,
    "scrolled": true
   },
   "outputs": [
    {
     "data": {
      "text/html": [
       "<div>\n",
       "<style scoped>\n",
       "    .dataframe tbody tr th:only-of-type {\n",
       "        vertical-align: middle;\n",
       "    }\n",
       "\n",
       "    .dataframe tbody tr th {\n",
       "        vertical-align: top;\n",
       "    }\n",
       "\n",
       "    .dataframe thead th {\n",
       "        text-align: right;\n",
       "    }\n",
       "</style>\n",
       "<table border=\"1\" class=\"dataframe\">\n",
       "  <thead>\n",
       "    <tr style=\"text-align: right;\">\n",
       "      <th></th>\n",
       "      <th>product_name</th>\n",
       "      <th>product_price</th>\n",
       "      <th>product_id</th>\n",
       "      <th>style_id</th>\n",
       "      <th>color_id</th>\n",
       "      <th>name_color</th>\n",
       "      <th>Size</th>\n",
       "      <th>Fit</th>\n",
       "      <th>Composition</th>\n",
       "      <th>More sustainable materials</th>\n",
       "    </tr>\n",
       "  </thead>\n",
       "  <tbody>\n",
       "    <tr>\n",
       "      <th>0</th>\n",
       "      <td>Skinny Jeans</td>\n",
       "      <td>39.99</td>\n",
       "      <td>0690449001</td>\n",
       "      <td>0690449</td>\n",
       "      <td>001</td>\n",
       "      <td>Light denim blue/trashed</td>\n",
       "      <td>The model is 187cm/62 and wears a size 32/32</td>\n",
       "      <td>Skinny fit</td>\n",
       "      <td>Cotton 98%, Spandex 2%</td>\n",
       "      <td>NaN</td>\n",
       "    </tr>\n",
       "    <tr>\n",
       "      <th>1</th>\n",
       "      <td>Skinny Jeans</td>\n",
       "      <td>39.99</td>\n",
       "      <td>0690449002</td>\n",
       "      <td>0690449</td>\n",
       "      <td>002</td>\n",
       "      <td>Denim blue</td>\n",
       "      <td>The model is 187cm/62 and wears a size 32/32</td>\n",
       "      <td>Skinny fit</td>\n",
       "      <td>Cotton 98%, Spandex 2%</td>\n",
       "      <td>NaN</td>\n",
       "    </tr>\n",
       "    <tr>\n",
       "      <th>2</th>\n",
       "      <td>Skinny Jeans</td>\n",
       "      <td>39.99</td>\n",
       "      <td>0690449006</td>\n",
       "      <td>0690449</td>\n",
       "      <td>006</td>\n",
       "      <td>Black/washed</td>\n",
       "      <td>The model is 187cm/62 and wears a size 32/32</td>\n",
       "      <td>Skinny fit</td>\n",
       "      <td>Cotton 98%, Spandex 2%</td>\n",
       "      <td>NaN</td>\n",
       "    </tr>\n",
       "    <tr>\n",
       "      <th>3</th>\n",
       "      <td>Skinny Jeans</td>\n",
       "      <td>39.99</td>\n",
       "      <td>0690449007</td>\n",
       "      <td>0690449</td>\n",
       "      <td>007</td>\n",
       "      <td>Light denim blue</td>\n",
       "      <td>The model is 187cm/62 and wears a size 32/32</td>\n",
       "      <td>Skinny fit</td>\n",
       "      <td>Cotton 98%, Spandex 2%</td>\n",
       "      <td>NaN</td>\n",
       "    </tr>\n",
       "    <tr>\n",
       "      <th>4</th>\n",
       "      <td>Skinny Jeans</td>\n",
       "      <td>39.99</td>\n",
       "      <td>0690449009</td>\n",
       "      <td>0690449</td>\n",
       "      <td>009</td>\n",
       "      <td>Black washed out</td>\n",
       "      <td>The model is 187cm/62 and wears a size 32/32</td>\n",
       "      <td>Skinny fit</td>\n",
       "      <td>Cotton 98%, Spandex 2%</td>\n",
       "      <td>NaN</td>\n",
       "    </tr>\n",
       "    <tr>\n",
       "      <th>...</th>\n",
       "      <td>...</td>\n",
       "      <td>...</td>\n",
       "      <td>...</td>\n",
       "      <td>...</td>\n",
       "      <td>...</td>\n",
       "      <td>...</td>\n",
       "      <td>...</td>\n",
       "      <td>...</td>\n",
       "      <td>...</td>\n",
       "      <td>...</td>\n",
       "    </tr>\n",
       "    <tr>\n",
       "      <th>174</th>\n",
       "      <td>Regular Bootcut Jeans</td>\n",
       "      <td>39.99</td>\n",
       "      <td>1048642002</td>\n",
       "      <td>1048642</td>\n",
       "      <td>002</td>\n",
       "      <td>Denim black</td>\n",
       "      <td>NaN</td>\n",
       "      <td>Regular fit</td>\n",
       "      <td>Shell: Cotton 99%, Spandex 1%</td>\n",
       "      <td>Lining: Recycled polyester 80%</td>\n",
       "    </tr>\n",
       "    <tr>\n",
       "      <th>175</th>\n",
       "      <td>Relaxed Tapered Pull-on Jeans</td>\n",
       "      <td>29.99</td>\n",
       "      <td>0986779002</td>\n",
       "      <td>0986779</td>\n",
       "      <td>002</td>\n",
       "      <td>Denim blue</td>\n",
       "      <td>NaN</td>\n",
       "      <td>Relaxed fit</td>\n",
       "      <td>Pocket lining: Polyester 65%, Cotton 35%</td>\n",
       "      <td>Lining: Recycled polyester 65%, Recycled cotto...</td>\n",
       "    </tr>\n",
       "    <tr>\n",
       "      <th>176</th>\n",
       "      <td>Relaxed Tapered Pull-on Jeans</td>\n",
       "      <td>29.99</td>\n",
       "      <td>0986779003</td>\n",
       "      <td>0986779</td>\n",
       "      <td>003</td>\n",
       "      <td>Black</td>\n",
       "      <td>NaN</td>\n",
       "      <td>Relaxed fit</td>\n",
       "      <td>Pocket lining: Polyester 65%, Cotton 35%</td>\n",
       "      <td>Lining: Recycled polyester 65%, Recycled cotto...</td>\n",
       "    </tr>\n",
       "    <tr>\n",
       "      <th>177</th>\n",
       "      <td>Relaxed Tapered Pull-on Jeans</td>\n",
       "      <td>29.99</td>\n",
       "      <td>0986779004</td>\n",
       "      <td>0986779</td>\n",
       "      <td>004</td>\n",
       "      <td>Dark denim blue</td>\n",
       "      <td>NaN</td>\n",
       "      <td>Relaxed fit</td>\n",
       "      <td>Pocket lining: Polyester 65%, Cotton 35%</td>\n",
       "      <td>Lining: Recycled polyester 65%, Recycled cotto...</td>\n",
       "    </tr>\n",
       "    <tr>\n",
       "      <th>178</th>\n",
       "      <td>Relaxed Tapered Pull-on Jeans</td>\n",
       "      <td>29.99</td>\n",
       "      <td>0986779005</td>\n",
       "      <td>0986779</td>\n",
       "      <td>005</td>\n",
       "      <td>Denim blue</td>\n",
       "      <td>NaN</td>\n",
       "      <td>Relaxed fit</td>\n",
       "      <td>Pocket lining: Polyester 65%, Cotton 35%</td>\n",
       "      <td>Lining: Recycled polyester 65%, Recycled cotto...</td>\n",
       "    </tr>\n",
       "  </tbody>\n",
       "</table>\n",
       "<p>179 rows × 10 columns</p>\n",
       "</div>"
      ],
      "text/plain": [
       "                      product_name product_price  product_id style_id  \\\n",
       "0                     Skinny Jeans         39.99  0690449001  0690449   \n",
       "1                     Skinny Jeans         39.99  0690449002  0690449   \n",
       "2                     Skinny Jeans         39.99  0690449006  0690449   \n",
       "3                     Skinny Jeans         39.99  0690449007  0690449   \n",
       "4                     Skinny Jeans         39.99  0690449009  0690449   \n",
       "..                             ...           ...         ...      ...   \n",
       "174          Regular Bootcut Jeans         39.99  1048642002  1048642   \n",
       "175  Relaxed Tapered Pull-on Jeans         29.99  0986779002  0986779   \n",
       "176  Relaxed Tapered Pull-on Jeans         29.99  0986779003  0986779   \n",
       "177  Relaxed Tapered Pull-on Jeans         29.99  0986779004  0986779   \n",
       "178  Relaxed Tapered Pull-on Jeans         29.99  0986779005  0986779   \n",
       "\n",
       "    color_id                name_color  \\\n",
       "0        001  Light denim blue/trashed   \n",
       "1        002                Denim blue   \n",
       "2        006              Black/washed   \n",
       "3        007          Light denim blue   \n",
       "4        009          Black washed out   \n",
       "..       ...                       ...   \n",
       "174      002               Denim black   \n",
       "175      002                Denim blue   \n",
       "176      003                     Black   \n",
       "177      004           Dark denim blue   \n",
       "178      005                Denim blue   \n",
       "\n",
       "                                             Size          Fit  \\\n",
       "0    The model is 187cm/62 and wears a size 32/32   Skinny fit   \n",
       "1    The model is 187cm/62 and wears a size 32/32   Skinny fit   \n",
       "2    The model is 187cm/62 and wears a size 32/32   Skinny fit   \n",
       "3    The model is 187cm/62 and wears a size 32/32   Skinny fit   \n",
       "4    The model is 187cm/62 and wears a size 32/32   Skinny fit   \n",
       "..                                            ...          ...   \n",
       "174                                           NaN  Regular fit   \n",
       "175                                           NaN  Relaxed fit   \n",
       "176                                           NaN  Relaxed fit   \n",
       "177                                           NaN  Relaxed fit   \n",
       "178                                           NaN  Relaxed fit   \n",
       "\n",
       "                                  Composition  \\\n",
       "0                      Cotton 98%, Spandex 2%   \n",
       "1                      Cotton 98%, Spandex 2%   \n",
       "2                      Cotton 98%, Spandex 2%   \n",
       "3                      Cotton 98%, Spandex 2%   \n",
       "4                      Cotton 98%, Spandex 2%   \n",
       "..                                        ...   \n",
       "174             Shell: Cotton 99%, Spandex 1%   \n",
       "175  Pocket lining: Polyester 65%, Cotton 35%   \n",
       "176  Pocket lining: Polyester 65%, Cotton 35%   \n",
       "177  Pocket lining: Polyester 65%, Cotton 35%   \n",
       "178  Pocket lining: Polyester 65%, Cotton 35%   \n",
       "\n",
       "                            More sustainable materials  \n",
       "0                                                  NaN  \n",
       "1                                                  NaN  \n",
       "2                                                  NaN  \n",
       "3                                                  NaN  \n",
       "4                                                  NaN  \n",
       "..                                                 ...  \n",
       "174                     Lining: Recycled polyester 80%  \n",
       "175  Lining: Recycled polyester 65%, Recycled cotto...  \n",
       "176  Lining: Recycled polyester 65%, Recycled cotto...  \n",
       "177  Lining: Recycled polyester 65%, Recycled cotto...  \n",
       "178  Lining: Recycled polyester 65%, Recycled cotto...  \n",
       "\n",
       "[179 rows x 10 columns]"
      ]
     },
     "execution_count": 1291,
     "metadata": {},
     "output_type": "execute_result"
    }
   ],
   "source": [
    "df = df1.merge(df_details,how='inner',on='style_id')\n",
    "df = df[['product_name','product_price','product_id','style_id','color_id','name_color','Size','Fit','Composition','More sustainable materials']]\n",
    "df"
   ]
  },
  {
   "cell_type": "code",
   "execution_count": 1293,
   "id": "96b58458",
   "metadata": {
    "ExecuteTime": {
     "end_time": "2022-03-31T21:30:20.989758Z",
     "start_time": "2022-03-31T21:30:20.971806Z"
    },
    "hidden": true
   },
   "outputs": [
    {
     "data": {
      "text/plain": [
       "array(['Skinny Jeans', 'Skinny Cropped Jeans', 'Slim Jeans',\n",
       "       'Slim Tapered Jeans', 'Regular Jeans',\n",
       "       'Regular Tapered Crop Jeans', 'Loose Jeans',\n",
       "       'Relaxed Denim Joggers', 'Hybrid Regular Tapered Joggers',\n",
       "       'Freefit® Slim Jeans', 'Relaxed Jeans', 'Relaxed Pull-on Jeans',\n",
       "       'Trashed Skinny Jeans', 'Loose Carpenter Jeans',\n",
       "       'Regular Denim Joggers', 'Relaxed Jeans with Embroidery Detail',\n",
       "       'Hybrid Regular Denim Joggers', 'Regular Bootcut Jeans',\n",
       "       'Relaxed Tapered Pull-on Jeans'], dtype=object)"
      ]
     },
     "execution_count": 1293,
     "metadata": {},
     "output_type": "execute_result"
    }
   ],
   "source": [
    "df['product_name'].unique()"
   ]
  },
  {
   "cell_type": "code",
   "execution_count": 1295,
   "id": "eecf6daf",
   "metadata": {
    "ExecuteTime": {
     "end_time": "2022-03-31T21:32:03.844208Z",
     "start_time": "2022-03-31T21:32:03.811284Z"
    },
    "hidden": true
   },
   "outputs": [
    {
     "data": {
      "text/html": [
       "<div>\n",
       "<style scoped>\n",
       "    .dataframe tbody tr th:only-of-type {\n",
       "        vertical-align: middle;\n",
       "    }\n",
       "\n",
       "    .dataframe tbody tr th {\n",
       "        vertical-align: top;\n",
       "    }\n",
       "\n",
       "    .dataframe thead th {\n",
       "        text-align: right;\n",
       "    }\n",
       "</style>\n",
       "<table border=\"1\" class=\"dataframe\">\n",
       "  <thead>\n",
       "    <tr style=\"text-align: right;\">\n",
       "      <th></th>\n",
       "      <th>product_price</th>\n",
       "    </tr>\n",
       "    <tr>\n",
       "      <th>product_name</th>\n",
       "      <th></th>\n",
       "    </tr>\n",
       "  </thead>\n",
       "  <tbody>\n",
       "    <tr>\n",
       "      <th>Freefit® Slim Jeans</th>\n",
       "      <td>49.99</td>\n",
       "    </tr>\n",
       "    <tr>\n",
       "      <th>Hybrid Regular Denim Joggers</th>\n",
       "      <td>39.99</td>\n",
       "    </tr>\n",
       "    <tr>\n",
       "      <th>Hybrid Regular Tapered Joggers</th>\n",
       "      <td>39.99</td>\n",
       "    </tr>\n",
       "    <tr>\n",
       "      <th>Loose Carpenter Jeans</th>\n",
       "      <td>39.99</td>\n",
       "    </tr>\n",
       "    <tr>\n",
       "      <th>Loose Jeans</th>\n",
       "      <td>39.99</td>\n",
       "    </tr>\n",
       "    <tr>\n",
       "      <th>Regular Bootcut Jeans</th>\n",
       "      <td>39.99</td>\n",
       "    </tr>\n",
       "    <tr>\n",
       "      <th>Regular Denim Joggers</th>\n",
       "      <td>29.99</td>\n",
       "    </tr>\n",
       "    <tr>\n",
       "      <th>Regular Jeans</th>\n",
       "      <td>19.99</td>\n",
       "    </tr>\n",
       "    <tr>\n",
       "      <th>Regular Tapered Crop Jeans</th>\n",
       "      <td>19.99</td>\n",
       "    </tr>\n",
       "    <tr>\n",
       "      <th>Relaxed Denim Joggers</th>\n",
       "      <td>29.99</td>\n",
       "    </tr>\n",
       "    <tr>\n",
       "      <th>Relaxed Jeans</th>\n",
       "      <td>39.99</td>\n",
       "    </tr>\n",
       "    <tr>\n",
       "      <th>Relaxed Jeans with Embroidery Detail</th>\n",
       "      <td>49.99</td>\n",
       "    </tr>\n",
       "    <tr>\n",
       "      <th>Relaxed Pull-on Jeans</th>\n",
       "      <td>24.99</td>\n",
       "    </tr>\n",
       "    <tr>\n",
       "      <th>Relaxed Tapered Pull-on Jeans</th>\n",
       "      <td>29.99</td>\n",
       "    </tr>\n",
       "    <tr>\n",
       "      <th>Skinny Cropped Jeans</th>\n",
       "      <td>29.99</td>\n",
       "    </tr>\n",
       "    <tr>\n",
       "      <th>Skinny Jeans</th>\n",
       "      <td>29.99</td>\n",
       "    </tr>\n",
       "    <tr>\n",
       "      <th>Slim Jeans</th>\n",
       "      <td>29.99</td>\n",
       "    </tr>\n",
       "    <tr>\n",
       "      <th>Slim Tapered Jeans</th>\n",
       "      <td>39.99</td>\n",
       "    </tr>\n",
       "    <tr>\n",
       "      <th>Trashed Skinny Jeans</th>\n",
       "      <td>39.99</td>\n",
       "    </tr>\n",
       "  </tbody>\n",
       "</table>\n",
       "</div>"
      ],
      "text/plain": [
       "                                      product_price\n",
       "product_name                                       \n",
       "Freefit® Slim Jeans                           49.99\n",
       "Hybrid Regular Denim Joggers                  39.99\n",
       "Hybrid Regular Tapered Joggers                39.99\n",
       "Loose Carpenter Jeans                         39.99\n",
       "Loose Jeans                                   39.99\n",
       "Regular Bootcut Jeans                         39.99\n",
       "Regular Denim Joggers                         29.99\n",
       "Regular Jeans                                 19.99\n",
       "Regular Tapered Crop Jeans                    19.99\n",
       "Relaxed Denim Joggers                         29.99\n",
       "Relaxed Jeans                                 39.99\n",
       "Relaxed Jeans with Embroidery Detail          49.99\n",
       "Relaxed Pull-on Jeans                         24.99\n",
       "Relaxed Tapered Pull-on Jeans                 29.99\n",
       "Skinny Cropped Jeans                          29.99\n",
       "Skinny Jeans                                  29.99\n",
       "Slim Jeans                                    29.99\n",
       "Slim Tapered Jeans                            39.99\n",
       "Trashed Skinny Jeans                          39.99"
      ]
     },
     "execution_count": 1295,
     "metadata": {},
     "output_type": "execute_result"
    }
   ],
   "source": [
    "median_by_type = df[['product_name','product_price']].groupby('product_name').median()\n",
    "median_by_type"
   ]
  }
 ],
 "metadata": {
  "kernelspec": {
   "display_name": "Python 3 (ipykernel)",
   "language": "python",
   "name": "python3"
  },
  "language_info": {
   "codemirror_mode": {
    "name": "ipython",
    "version": 3
   },
   "file_extension": ".py",
   "mimetype": "text/x-python",
   "name": "python",
   "nbconvert_exporter": "python",
   "pygments_lexer": "ipython3",
   "version": "3.8.12"
  }
 },
 "nbformat": 4,
 "nbformat_minor": 5
}
